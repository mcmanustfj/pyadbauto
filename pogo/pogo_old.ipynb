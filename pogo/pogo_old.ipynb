{
 "cells": [
  {
   "cell_type": "code",
   "execution_count": null,
   "id": "ad6ea870",
   "metadata": {},
   "outputs": [],
   "source": [
    "from pyadbauto import cli_utils, adb_commands, image\n",
    "from time import sleep\n"
   ]
  },
  {
   "cell_type": "code",
   "execution_count": null,
   "id": "7c47ec92",
   "metadata": {},
   "outputs": [],
   "source": [
    "gift_coord = (756, 2066)\n",
    "open_gift_coord = (783, 2612)\n",
    "swipe_start = (1152, 2747)\n",
    "swipe_end= (255, 2737)\n",
    "x_coord = (749, 2861)\n",
    "safe_tap= (1118, 2784)\n",
    "\n",
    "def tap_fast():\n",
    "    adb_commands.tap(*gift_coord)\n",
    "    sleep(1.2)\n",
    "    adb_commands.tap(*open_gift_coord)\n",
    "    sleep(0.1)\n",
    "    for i in range(3):\n",
    "        adb_commands.tap(*x_coord)\n",
    "        sleep(0.05)\n",
    "    sleep(1.5)\n",
    "    adb_commands.swipe(*swipe_start, *swipe_end)\n",
    "    sleep(1)\n",
    "\n",
    "def tap_slow():\n",
    "    adb_commands.tap(*gift_coord)\n",
    "    sleep(1.1)\n",
    "    adb_commands.tap(*open_gift_coord)\n",
    "    sleep(0.1)\n",
    "    for i in range(6):\n",
    "        adb_commands.tap(*x_coord)\n",
    "        sleep(0.05)\n",
    "    sleep(1.2)\n",
    "    adb_commands.swipe(*swipe_start, *swipe_end)\n",
    "    sleep(1)\n"
   ]
  },
  {
   "cell_type": "code",
   "execution_count": null,
   "id": "2907f691",
   "metadata": {},
   "outputs": [],
   "source": [
    "for i in range(10):\n",
    "    tap_fast()"
   ]
  },
  {
   "cell_type": "code",
   "execution_count": null,
   "id": "451b099c-ca9c-4f99-8eab-0911459536b3",
   "metadata": {},
   "outputs": [],
   "source": []
  }
 ],
 "metadata": {
  "kernelspec": {
   "display_name": "Python 3 (ipykernel)",
   "language": "python",
   "name": "python3"
  },
  "language_info": {
   "codemirror_mode": {
    "name": "ipython",
    "version": 3
   },
   "file_extension": ".py",
   "mimetype": "text/x-python",
   "name": "python",
   "nbconvert_exporter": "python",
   "pygments_lexer": "ipython3",
   "version": "3.12.0"
  }
 },
 "nbformat": 4,
 "nbformat_minor": 5
}
