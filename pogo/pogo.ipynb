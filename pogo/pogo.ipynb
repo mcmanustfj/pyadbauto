{
 "cells": [
  {
   "cell_type": "code",
   "execution_count": 1,
   "metadata": {},
   "outputs": [],
   "source": [
    "import scrcpy\n",
    "from adbutils import adb\n",
    "import cv2\n",
    "import numpy as np\n",
    "from pathlib import Path\n",
    "import sys\n",
    "import os\n",
    "from time import sleep\n",
    "\n",
    "sys.path.append(str(Path(os.getcwd()).parent))\n",
    "import importlib\n",
    "import pyadbauto\n",
    "from pyadbauto import image\n",
    "pyadbauto = importlib.reload(pyadbauto)\n",
    "image = importlib.reload(image)\n",
    "\n",
    "image_root = Path(\"\")\n",
    "adb.connect('192.168.99.124:46567')\n",
    "client = pyadbauto.Client(device=adb.device_list()[0],\n",
    "                       max_width=1080,\n",
    "                       max_fps=20,\n",
    "                       )\n",
    "client.start()\n",
    "\n"
   ]
  },
  {
   "cell_type": "code",
   "execution_count": null,
   "metadata": {},
   "outputs": [],
   "source": [
    "X_COORDS = (236, 974)\n",
    "swipe_coords = (X_COORDS[0] + 100, X_COORDS[1], X_COORDS[0]-100, X_COORDS[1])\n"
   ]
  },
  {
   "cell_type": "code",
   "execution_count": 3,
   "metadata": {},
   "outputs": [],
   "source": [
    "def open_gift():\n",
    "    gift_big = client.image_match(\"gift_big.png\")\n",
    "    client.tap(*gift_big)\n",
    "    open_button = client.wait_for_image(\"open_gift.png\", error=False)\n",
    "    if not open_button:\n",
    "        client.tap(*gift_big)\n",
    "        open_button = client.wait_for_image(\"open_gift.png\")\n",
    "    x_button = client.wait_for_image(\"x_light.png\")\n",
    "    client.tap(*open_button)\n",
    "    client.wait_for_image(\"x_light.png\", disappear=True)\n",
    "    sleep(0.3)\n",
    "    for _ in range(3):\n",
    "        client.tap(*x_button)\n",
    "        sleep(0.4)\n",
    "        if (client.image_match(\"x_dark.png\") or client.image_match(\"x_light.png\")\n",
    "            or client.image_match(\"pokeball.png\")):\n",
    "            break"
   ]
  },
  {
   "cell_type": "code",
   "execution_count": null,
   "metadata": {},
   "outputs": [],
   "source": [
    "for i in range(30):\n",
    "    if client.image_match(\"pokeball.png\"):\n",
    "        break\n",
    "    if client.wait_for_image(\"gift_big.png\", error=False, timeout=1):\n",
    "        open_gift()\n",
    "        client.swipe(*swipe_coords)\n",
    "    elif client.image_match(\"in_friend_screen.png\"):\n",
    "        client.swipe(*swipe_coords)\n",
    "        sleep(0.2)\n",
    "    else:\n",
    "        print(\"I don't know what's happening\")\n",
    "        break\n"
   ]
  },
  {
   "cell_type": "code",
   "execution_count": null,
   "metadata": {},
   "outputs": [],
   "source": [
    "from time import time\n",
    "time()"
   ]
  },
  {
   "cell_type": "code",
   "execution_count": null,
   "metadata": {},
   "outputs": [],
   "source": [
    "open_button = client.image_match(\"pogo/open_gift.png\")\n",
    "x_button = client.image_match(\"pogo/x.png\")"
   ]
  },
  {
   "cell_type": "code",
   "execution_count": null,
   "metadata": {},
   "outputs": [],
   "source": [
    "client.tap(*open_button)"
   ]
  },
  {
   "cell_type": "code",
   "execution_count": null,
   "metadata": {},
   "outputs": [],
   "source": [
    "client.image_match(\"pogo/open_gift.png\")"
   ]
  },
  {
   "cell_type": "code",
   "execution_count": null,
   "metadata": {},
   "outputs": [],
   "source": [
    "x_button"
   ]
  },
  {
   "cell_type": "code",
   "execution_count": null,
   "metadata": {},
   "outputs": [],
   "source": [
    "from time import sleep\n",
    "\n",
    "\n",
    "client.client.control.touch(x_button[0]+200, x_button[1], scrcpy.ACTION_DOWN)\n",
    "sleep(0.1)\n",
    "client.client.control.touch(x_button[0]-200, x_button[1], scrcpy.ACTION_MOVE)\n",
    "sleep(0.1)\n",
    "client.client.control.touch(x_button[0]-200, x_button[1], scrcpy.ACTION_UP)\n"
   ]
  },
  {
   "cell_type": "code",
   "execution_count": null,
   "metadata": {},
   "outputs": [],
   "source": [
    "client.client.control.swipe(x_button[0]+200, x_button[1], x_button[0]-200, x_button[1])"
   ]
  }
 ],
 "metadata": {
  "kernelspec": {
   "display_name": ".venv",
   "language": "python",
   "name": "python3"
  },
  "language_info": {
   "codemirror_mode": {
    "name": "ipython",
    "version": 3
   },
   "file_extension": ".py",
   "mimetype": "text/x-python",
   "name": "python",
   "nbconvert_exporter": "python",
   "pygments_lexer": "ipython3",
   "version": "3.10.11"
  }
 },
 "nbformat": 4,
 "nbformat_minor": 2
}
